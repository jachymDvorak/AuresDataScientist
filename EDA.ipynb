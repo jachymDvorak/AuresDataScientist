{
 "cells": [
  {
   "cell_type": "code",
   "execution_count": 2,
   "id": "285b9330",
   "metadata": {},
   "outputs": [],
   "source": [
    "import pandas as pd"
   ]
  },
  {
   "cell_type": "code",
   "execution_count": 38,
   "id": "38a2a7d6",
   "metadata": {},
   "outputs": [],
   "source": [
    "path_to_dataset = 'data/cars.csv'\n",
    "\n",
    "raw = pd.read_csv(path_to_dataset, sep=\";\")"
   ]
  },
  {
   "cell_type": "code",
   "execution_count": 39,
   "id": "cff6ea75",
   "metadata": {},
   "outputs": [
    {
     "data": {
      "text/html": [
       "<div>\n",
       "<style scoped>\n",
       "    .dataframe tbody tr th:only-of-type {\n",
       "        vertical-align: middle;\n",
       "    }\n",
       "\n",
       "    .dataframe tbody tr th {\n",
       "        vertical-align: top;\n",
       "    }\n",
       "\n",
       "    .dataframe thead th {\n",
       "        text-align: right;\n",
       "    }\n",
       "</style>\n",
       "<table border=\"1\" class=\"dataframe\">\n",
       "  <thead>\n",
       "    <tr style=\"text-align: right;\">\n",
       "      <th></th>\n",
       "      <th>RN</th>\n",
       "      <th>Price</th>\n",
       "      <th>Make</th>\n",
       "      <th>Model</th>\n",
       "      <th>Body</th>\n",
       "      <th>Fuel</th>\n",
       "      <th>EngineSize</th>\n",
       "      <th>Tachometer</th>\n",
       "      <th>Gearbox</th>\n",
       "      <th>ProductionYear</th>\n",
       "      <th>Color</th>\n",
       "      <th>Private</th>\n",
       "      <th>EnginePower</th>\n",
       "      <th>Doors</th>\n",
       "      <th>Seats</th>\n",
       "      <th>Advert_Title</th>\n",
       "      <th>Features</th>\n",
       "    </tr>\n",
       "  </thead>\n",
       "  <tbody>\n",
       "    <tr>\n",
       "      <th>0</th>\n",
       "      <td>1</td>\n",
       "      <td>6690</td>\n",
       "      <td>Opel</td>\n",
       "      <td>Meriva</td>\n",
       "      <td>MPV</td>\n",
       "      <td>Petrol</td>\n",
       "      <td>1364.0</td>\n",
       "      <td>64250</td>\n",
       "      <td>Manual</td>\n",
       "      <td>2012</td>\n",
       "      <td>Grey</td>\n",
       "      <td>1</td>\n",
       "      <td>88.0</td>\n",
       "      <td>5.0</td>\n",
       "      <td>5.0</td>\n",
       "      <td>Opel Meriva 1.4 ecoflex Edition</td>\n",
       "      <td>[\"ABS\",\"All season tyres\",\"CD player\",\"Central...</td>\n",
       "    </tr>\n",
       "    <tr>\n",
       "      <th>1</th>\n",
       "      <td>2</td>\n",
       "      <td>7100</td>\n",
       "      <td>BMW</td>\n",
       "      <td>5</td>\n",
       "      <td>Combi</td>\n",
       "      <td>Diesel</td>\n",
       "      <td>NaN</td>\n",
       "      <td>213000</td>\n",
       "      <td>Automat</td>\n",
       "      <td>2009</td>\n",
       "      <td>NaN</td>\n",
       "      <td>0</td>\n",
       "      <td>130.0</td>\n",
       "      <td>NaN</td>\n",
       "      <td>NaN</td>\n",
       "      <td>BMW BMW 520 D TOURING-2.HAND-Scheckheftgepflegt</td>\n",
       "      <td>[]</td>\n",
       "    </tr>\n",
       "    <tr>\n",
       "      <th>2</th>\n",
       "      <td>3</td>\n",
       "      <td>45000</td>\n",
       "      <td>Audi</td>\n",
       "      <td>A5</td>\n",
       "      <td>Coupe</td>\n",
       "      <td>Petrol</td>\n",
       "      <td>1984.0</td>\n",
       "      <td>17400</td>\n",
       "      <td>Automat</td>\n",
       "      <td>2019</td>\n",
       "      <td>Grey</td>\n",
       "      <td>1</td>\n",
       "      <td>180.0</td>\n",
       "      <td>5.0</td>\n",
       "      <td>4.0</td>\n",
       "      <td>Audi A5 Sportback 45 TFSI quattro S tronic</td>\n",
       "      <td>[\"ABS\",\"Adaptive cornering lights\",\"Adaptive C...</td>\n",
       "    </tr>\n",
       "    <tr>\n",
       "      <th>3</th>\n",
       "      <td>4</td>\n",
       "      <td>28950</td>\n",
       "      <td>BMW</td>\n",
       "      <td>3</td>\n",
       "      <td>Sedan/Saloon</td>\n",
       "      <td>Diesel</td>\n",
       "      <td>2993.0</td>\n",
       "      <td>189000</td>\n",
       "      <td>Automat</td>\n",
       "      <td>2017</td>\n",
       "      <td>Blue</td>\n",
       "      <td>1</td>\n",
       "      <td>190.0</td>\n",
       "      <td>5.0</td>\n",
       "      <td>5.0</td>\n",
       "      <td>BMW 330d xDrive Automatik M Sportpaket TOP AUT...</td>\n",
       "      <td>[\"ABS\",\"Adaptive cornering lights\",\"Adaptive C...</td>\n",
       "    </tr>\n",
       "    <tr>\n",
       "      <th>4</th>\n",
       "      <td>5</td>\n",
       "      <td>8500</td>\n",
       "      <td>Audi</td>\n",
       "      <td>A5</td>\n",
       "      <td>Coupe</td>\n",
       "      <td>Petrol</td>\n",
       "      <td>1800.0</td>\n",
       "      <td>226000</td>\n",
       "      <td>Automat</td>\n",
       "      <td>2008</td>\n",
       "      <td>NaN</td>\n",
       "      <td>1</td>\n",
       "      <td>132.0</td>\n",
       "      <td>NaN</td>\n",
       "      <td>NaN</td>\n",
       "      <td>Audi AUDI A5 1.8 TFSI S-LINE AUTOMATIC</td>\n",
       "      <td>[\"ABS\",\"Bluetooth\",\"Cruise control\",\"Full Serv...</td>\n",
       "    </tr>\n",
       "  </tbody>\n",
       "</table>\n",
       "</div>"
      ],
      "text/plain": [
       "   RN  Price  Make   Model          Body    Fuel  EngineSize  Tachometer  \\\n",
       "0   1   6690  Opel  Meriva           MPV  Petrol      1364.0       64250   \n",
       "1   2   7100   BMW       5         Combi  Diesel         NaN      213000   \n",
       "2   3  45000  Audi      A5         Coupe  Petrol      1984.0       17400   \n",
       "3   4  28950   BMW       3  Sedan/Saloon  Diesel      2993.0      189000   \n",
       "4   5   8500  Audi      A5         Coupe  Petrol      1800.0      226000   \n",
       "\n",
       "   Gearbox  ProductionYear Color  Private  EnginePower  Doors  Seats  \\\n",
       "0   Manual            2012  Grey        1         88.0    5.0    5.0   \n",
       "1  Automat            2009   NaN        0        130.0    NaN    NaN   \n",
       "2  Automat            2019  Grey        1        180.0    5.0    4.0   \n",
       "3  Automat            2017  Blue        1        190.0    5.0    5.0   \n",
       "4  Automat            2008   NaN        1        132.0    NaN    NaN   \n",
       "\n",
       "                                        Advert_Title  \\\n",
       "0                    Opel Meriva 1.4 ecoflex Edition   \n",
       "1    BMW BMW 520 D TOURING-2.HAND-Scheckheftgepflegt   \n",
       "2         Audi A5 Sportback 45 TFSI quattro S tronic   \n",
       "3  BMW 330d xDrive Automatik M Sportpaket TOP AUT...   \n",
       "4             Audi AUDI A5 1.8 TFSI S-LINE AUTOMATIC   \n",
       "\n",
       "                                            Features  \n",
       "0  [\"ABS\",\"All season tyres\",\"CD player\",\"Central...  \n",
       "1                                                 []  \n",
       "2  [\"ABS\",\"Adaptive cornering lights\",\"Adaptive C...  \n",
       "3  [\"ABS\",\"Adaptive cornering lights\",\"Adaptive C...  \n",
       "4  [\"ABS\",\"Bluetooth\",\"Cruise control\",\"Full Serv...  "
      ]
     },
     "execution_count": 39,
     "metadata": {},
     "output_type": "execute_result"
    }
   ],
   "source": [
    "raw.head()"
   ]
  },
  {
   "cell_type": "code",
   "execution_count": 40,
   "id": "fa47f174",
   "metadata": {},
   "outputs": [
    {
     "data": {
      "text/html": [
       "<div>\n",
       "<style scoped>\n",
       "    .dataframe tbody tr th:only-of-type {\n",
       "        vertical-align: middle;\n",
       "    }\n",
       "\n",
       "    .dataframe tbody tr th {\n",
       "        vertical-align: top;\n",
       "    }\n",
       "\n",
       "    .dataframe thead th {\n",
       "        text-align: right;\n",
       "    }\n",
       "</style>\n",
       "<table border=\"1\" class=\"dataframe\">\n",
       "  <thead>\n",
       "    <tr style=\"text-align: right;\">\n",
       "      <th></th>\n",
       "      <th>RN</th>\n",
       "      <th>Price</th>\n",
       "      <th>EngineSize</th>\n",
       "      <th>Tachometer</th>\n",
       "      <th>ProductionYear</th>\n",
       "      <th>Private</th>\n",
       "      <th>EnginePower</th>\n",
       "      <th>Doors</th>\n",
       "      <th>Seats</th>\n",
       "    </tr>\n",
       "  </thead>\n",
       "  <tbody>\n",
       "    <tr>\n",
       "      <th>count</th>\n",
       "      <td>17362.000000</td>\n",
       "      <td>17362.000000</td>\n",
       "      <td>10357.000000</td>\n",
       "      <td>17362.000000</td>\n",
       "      <td>17362.000000</td>\n",
       "      <td>17362.000000</td>\n",
       "      <td>16629.000000</td>\n",
       "      <td>6440.000000</td>\n",
       "      <td>6358.000000</td>\n",
       "    </tr>\n",
       "    <tr>\n",
       "      <th>mean</th>\n",
       "      <td>8681.500000</td>\n",
       "      <td>12961.304573</td>\n",
       "      <td>1860.450130</td>\n",
       "      <td>125929.339016</td>\n",
       "      <td>2012.118650</td>\n",
       "      <td>0.368218</td>\n",
       "      <td>119.993565</td>\n",
       "      <td>4.649068</td>\n",
       "      <td>4.871186</td>\n",
       "    </tr>\n",
       "    <tr>\n",
       "      <th>std</th>\n",
       "      <td>5012.122022</td>\n",
       "      <td>10745.101369</td>\n",
       "      <td>757.318463</td>\n",
       "      <td>61654.241501</td>\n",
       "      <td>3.951958</td>\n",
       "      <td>0.482335</td>\n",
       "      <td>62.250912</td>\n",
       "      <td>0.760789</td>\n",
       "      <td>0.879163</td>\n",
       "    </tr>\n",
       "    <tr>\n",
       "      <th>min</th>\n",
       "      <td>1.000000</td>\n",
       "      <td>2000.000000</td>\n",
       "      <td>92.000000</td>\n",
       "      <td>5000.000000</td>\n",
       "      <td>2006.000000</td>\n",
       "      <td>0.000000</td>\n",
       "      <td>4.000000</td>\n",
       "      <td>3.000000</td>\n",
       "      <td>2.000000</td>\n",
       "    </tr>\n",
       "    <tr>\n",
       "      <th>25%</th>\n",
       "      <td>4341.250000</td>\n",
       "      <td>5300.000000</td>\n",
       "      <td>1400.000000</td>\n",
       "      <td>79000.000000</td>\n",
       "      <td>2009.000000</td>\n",
       "      <td>0.000000</td>\n",
       "      <td>77.000000</td>\n",
       "      <td>5.000000</td>\n",
       "      <td>5.000000</td>\n",
       "    </tr>\n",
       "    <tr>\n",
       "      <th>50%</th>\n",
       "      <td>8681.500000</td>\n",
       "      <td>9500.000000</td>\n",
       "      <td>1900.000000</td>\n",
       "      <td>127000.000000</td>\n",
       "      <td>2012.000000</td>\n",
       "      <td>0.000000</td>\n",
       "      <td>105.000000</td>\n",
       "      <td>5.000000</td>\n",
       "      <td>5.000000</td>\n",
       "    </tr>\n",
       "    <tr>\n",
       "      <th>75%</th>\n",
       "      <td>13021.750000</td>\n",
       "      <td>16872.500000</td>\n",
       "      <td>2000.000000</td>\n",
       "      <td>172000.000000</td>\n",
       "      <td>2015.000000</td>\n",
       "      <td>1.000000</td>\n",
       "      <td>140.000000</td>\n",
       "      <td>5.000000</td>\n",
       "      <td>5.000000</td>\n",
       "    </tr>\n",
       "    <tr>\n",
       "      <th>max</th>\n",
       "      <td>17362.000000</td>\n",
       "      <td>60000.000000</td>\n",
       "      <td>6417.000000</td>\n",
       "      <td>300000.000000</td>\n",
       "      <td>2021.000000</td>\n",
       "      <td>1.000000</td>\n",
       "      <td>929.000000</td>\n",
       "      <td>5.000000</td>\n",
       "      <td>17.000000</td>\n",
       "    </tr>\n",
       "  </tbody>\n",
       "</table>\n",
       "</div>"
      ],
      "text/plain": [
       "                 RN         Price    EngineSize     Tachometer  \\\n",
       "count  17362.000000  17362.000000  10357.000000   17362.000000   \n",
       "mean    8681.500000  12961.304573   1860.450130  125929.339016   \n",
       "std     5012.122022  10745.101369    757.318463   61654.241501   \n",
       "min        1.000000   2000.000000     92.000000    5000.000000   \n",
       "25%     4341.250000   5300.000000   1400.000000   79000.000000   \n",
       "50%     8681.500000   9500.000000   1900.000000  127000.000000   \n",
       "75%    13021.750000  16872.500000   2000.000000  172000.000000   \n",
       "max    17362.000000  60000.000000   6417.000000  300000.000000   \n",
       "\n",
       "       ProductionYear       Private   EnginePower        Doors        Seats  \n",
       "count    17362.000000  17362.000000  16629.000000  6440.000000  6358.000000  \n",
       "mean      2012.118650      0.368218    119.993565     4.649068     4.871186  \n",
       "std          3.951958      0.482335     62.250912     0.760789     0.879163  \n",
       "min       2006.000000      0.000000      4.000000     3.000000     2.000000  \n",
       "25%       2009.000000      0.000000     77.000000     5.000000     5.000000  \n",
       "50%       2012.000000      0.000000    105.000000     5.000000     5.000000  \n",
       "75%       2015.000000      1.000000    140.000000     5.000000     5.000000  \n",
       "max       2021.000000      1.000000    929.000000     5.000000    17.000000  "
      ]
     },
     "execution_count": 40,
     "metadata": {},
     "output_type": "execute_result"
    }
   ],
   "source": [
    "raw.describe()"
   ]
  },
  {
   "cell_type": "code",
   "execution_count": 41,
   "id": "6cbcd447",
   "metadata": {},
   "outputs": [
    {
     "name": "stdout",
     "output_type": "stream",
     "text": [
      "<class 'pandas.core.frame.DataFrame'>\n",
      "RangeIndex: 17362 entries, 0 to 17361\n",
      "Data columns (total 17 columns):\n",
      " #   Column          Non-Null Count  Dtype  \n",
      "---  ------          --------------  -----  \n",
      " 0   RN              17362 non-null  int64  \n",
      " 1   Price           17362 non-null  int64  \n",
      " 2   Make            17344 non-null  object \n",
      " 3   Model           17213 non-null  object \n",
      " 4   Body            15904 non-null  object \n",
      " 5   Fuel            17108 non-null  object \n",
      " 6   EngineSize      10357 non-null  float64\n",
      " 7   Tachometer      17362 non-null  int64  \n",
      " 8   Gearbox         17029 non-null  object \n",
      " 9   ProductionYear  17362 non-null  int64  \n",
      " 10  Color           6243 non-null   object \n",
      " 11  Private         17362 non-null  int64  \n",
      " 12  EnginePower     16629 non-null  float64\n",
      " 13  Doors           6440 non-null   float64\n",
      " 14  Seats           6358 non-null   float64\n",
      " 15  Advert_Title    17362 non-null  object \n",
      " 16  Features        17362 non-null  object \n",
      "dtypes: float64(4), int64(5), object(8)\n",
      "memory usage: 2.3+ MB\n"
     ]
    }
   ],
   "source": [
    "raw.info()"
   ]
  },
  {
   "cell_type": "code",
   "execution_count": 42,
   "id": "dee94483",
   "metadata": {},
   "outputs": [
    {
     "data": {
      "text/plain": [
       "RN                    0\n",
       "Price                 0\n",
       "Make                 18\n",
       "Model               149\n",
       "Body               1458\n",
       "Fuel                254\n",
       "EngineSize         7005\n",
       "Tachometer            0\n",
       "Gearbox             333\n",
       "ProductionYear        0\n",
       "Color             11119\n",
       "Private               0\n",
       "EnginePower         733\n",
       "Doors             10922\n",
       "Seats             11004\n",
       "Advert_Title          0\n",
       "Features              0\n",
       "dtype: int64"
      ]
     },
     "execution_count": 42,
     "metadata": {},
     "output_type": "execute_result"
    }
   ],
   "source": [
    "raw.isna().sum()"
   ]
  },
  {
   "cell_type": "code",
   "execution_count": 43,
   "id": "e070f4ef",
   "metadata": {},
   "outputs": [
    {
     "data": {
      "text/plain": [
       "Sedan/Saloon    3984\n",
       "Combi           3109\n",
       "Hatchback       2633\n",
       "SUV             2526\n",
       "VAN              981\n",
       "MPV              974\n",
       "Coupe            919\n",
       "Convertible      726\n",
       "Pickup            52\n",
       "Name: Body, dtype: int64"
      ]
     },
     "execution_count": 43,
     "metadata": {},
     "output_type": "execute_result"
    }
   ],
   "source": [
    "raw.Body.value_counts()"
   ]
  },
  {
   "cell_type": "code",
   "execution_count": 44,
   "id": "6297a34b",
   "metadata": {},
   "outputs": [
    {
     "data": {
      "text/plain": [
       "0         6690\n",
       "1         7100\n",
       "2        45000\n",
       "3        28950\n",
       "4         8500\n",
       "         ...  \n",
       "17357    11500\n",
       "17358     6499\n",
       "17359    49950\n",
       "17360     4900\n",
       "17361     9850\n",
       "Name: Price, Length: 17362, dtype: int64"
      ]
     },
     "execution_count": 44,
     "metadata": {},
     "output_type": "execute_result"
    }
   ],
   "source": [
    "raw.pop('Price')"
   ]
  },
  {
   "cell_type": "code",
   "execution_count": 45,
   "id": "b0575c73",
   "metadata": {},
   "outputs": [],
   "source": [
    "cols_to_drop = ['RN', 'Advert_Title', 'Color', 'Seats', 'Doors', 'EngineSize']\n",
    "\n",
    "df = raw.loc[:, ~raw.columns.isin(cols_to_drop)]"
   ]
  },
  {
   "cell_type": "code",
   "execution_count": 46,
   "id": "2a4beec0",
   "metadata": {},
   "outputs": [
    {
     "data": {
      "text/plain": [
       "Make                18\n",
       "Model              149\n",
       "Body              1458\n",
       "Fuel               254\n",
       "Tachometer           0\n",
       "Gearbox            333\n",
       "ProductionYear       0\n",
       "Private              0\n",
       "EnginePower        733\n",
       "Features             0\n",
       "dtype: int64"
      ]
     },
     "execution_count": 46,
     "metadata": {},
     "output_type": "execute_result"
    }
   ],
   "source": [
    "df.isna().sum()"
   ]
  },
  {
   "cell_type": "code",
   "execution_count": 47,
   "id": "3a97abb1",
   "metadata": {},
   "outputs": [],
   "source": [
    "categorical_columns = ['Make', 'Model', 'Body', 'Fuel', 'Gearbox']\n",
    "\n",
    "df = pd.get_dummies(df,\n",
    "               columns = categorical_columns)"
   ]
  },
  {
   "cell_type": "code",
   "execution_count": 58,
   "id": "b010b7d0",
   "metadata": {},
   "outputs": [],
   "source": [
    "from sklearn.impute import SimpleImputer\n",
    "import numpy as np\n",
    "\n",
    "imputer_mean = SimpleImputer(missing_values=np.nan, strategy='mean')\n",
    "\n"
   ]
  },
  {
   "cell_type": "code",
   "execution_count": 56,
   "id": "0b52b8d1",
   "metadata": {},
   "outputs": [
    {
     "data": {
      "text/plain": [
       "array([[6.425e+04, 2.012e+03, 8.800e+01],\n",
       "       [2.130e+05, 2.009e+03, 1.300e+02],\n",
       "       [1.740e+04, 2.019e+03, 1.800e+02],\n",
       "       ...,\n",
       "       [1.550e+04, 2.019e+03, 1.700e+02],\n",
       "       [1.860e+05, 2.010e+03, 1.100e+02],\n",
       "       [6.500e+04, 2.010e+03, 2.200e+01]])"
      ]
     },
     "execution_count": 56,
     "metadata": {},
     "output_type": "execute_result"
    }
   ],
   "source": [
    "numeric_cols = ['Tachometer', 'ProductionYear', 'EnginePower']\n",
    "\n",
    "#transformed_cols = imputer_mean.fit_transform(df[numeric_cols])\n",
    "\n"
   ]
  },
  {
   "cell_type": "code",
   "execution_count": 61,
   "id": "fbf6d6f7",
   "metadata": {},
   "outputs": [],
   "source": [
    "from sklearn.compose import make_column_selector\n",
    "from sklearn.compose import ColumnTransformer\n",
    "\n",
    "ct = ColumnTransformer(\n",
    "    [(\"imputer\",imputer_mean, make_column_selector(dtype_include=np.number))])\n"
   ]
  },
  {
   "cell_type": "code",
   "execution_count": 63,
   "id": "6d5d4d63",
   "metadata": {},
   "outputs": [],
   "source": [
    "array = ct.fit_transform(df)"
   ]
  },
  {
   "cell_type": "code",
   "execution_count": 64,
   "id": "048667e7",
   "metadata": {},
   "outputs": [
    {
     "data": {
      "text/plain": [
       "(17362, 618)"
      ]
     },
     "execution_count": 64,
     "metadata": {},
     "output_type": "execute_result"
    }
   ],
   "source": [
    "array.shape"
   ]
  },
  {
   "cell_type": "code",
   "execution_count": null,
   "id": "fdddd1d5",
   "metadata": {},
   "outputs": [],
   "source": []
  }
 ],
 "metadata": {
  "kernelspec": {
   "display_name": "Python 3",
   "language": "python",
   "name": "python3"
  },
  "language_info": {
   "codemirror_mode": {
    "name": "ipython",
    "version": 3
   },
   "file_extension": ".py",
   "mimetype": "text/x-python",
   "name": "python",
   "nbconvert_exporter": "python",
   "pygments_lexer": "ipython3",
   "version": "3.7.13"
  }
 },
 "nbformat": 4,
 "nbformat_minor": 5
}
